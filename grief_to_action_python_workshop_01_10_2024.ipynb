{
  "nbformat": 4,
  "nbformat_minor": 0,
  "metadata": {
    "colab": {
      "provenance": [],
      "authorship_tag": "ABX9TyOrZAefl4JU8xhPdGaE7jCn",
      "include_colab_link": true
    },
    "kernelspec": {
      "name": "python3",
      "display_name": "Python 3"
    },
    "language_info": {
      "name": "python"
    }
  },
  "cells": [
    {
      "cell_type": "markdown",
      "metadata": {
        "id": "view-in-github",
        "colab_type": "text"
      },
      "source": [
        "<a href=\"https://colab.research.google.com/github/trailmarkerlib/pythonWorkshop/blob/main/grief_to_action_python_workshop_01_10_2024.ipynb\" target=\"_parent\"><img src=\"https://colab.research.google.com/assets/colab-badge.svg\" alt=\"Open In Colab\"/></a>"
      ]
    },
    {
      "cell_type": "markdown",
      "source": [
        "## Grief to Action Python Workshop: Jan 10, 2024\n",
        "\n",
        "### Pittsburgh Police Arrest Data\n",
        "Data</br>\n",
        "https://data.wprdc.org/dataset/arrest-data/resource/e03a89dd-134a-4ee8-a2bd-62c40aeebc6f?inner_span=True<br/><br/>\n",
        "Data Dictionary</br>\n",
        "https://data.wprdc.org/dataset/arrest-data/resource/e554650d-f48f-49b2-88f3-e19878a1c245?inner_span=True\n"
      ],
      "metadata": {
        "id": "KzYRLqcWOnJ1"
      }
    },
    {
      "cell_type": "markdown",
      "source": [
        "#### Import packages"
      ],
      "metadata": {
        "id": "cKfK1i_5qozE"
      }
    },
    {
      "cell_type": "code",
      "source": [
        "import pandas as pd\n",
        "import numpy as np\n",
        "\n",
        "import matplotlib.pyplot as plt"
      ],
      "metadata": {
        "id": "q4KYgK60OOZc"
      },
      "execution_count": 4,
      "outputs": []
    },
    {
      "cell_type": "code",
      "source": [
        "import json\n",
        "import requests"
      ],
      "metadata": {
        "id": "0CN-ScVgRM2w"
      },
      "execution_count": 5,
      "outputs": []
    },
    {
      "cell_type": "markdown",
      "source": [
        "#### Read the data using WPRDC API"
      ],
      "metadata": {
        "id": "Mu0ly6pLs_2y"
      }
    },
    {
      "cell_type": "code",
      "source": [
        "url = 'https://data.wprdc.org/api/3/action/datastore_search?resource_id=e03a89dd-134a-4ee8-a2bd-62c40aeebc6f'"
      ],
      "metadata": {
        "id": "qvhyK-33kWSa"
      },
      "execution_count": 6,
      "outputs": []
    },
    {
      "cell_type": "code",
      "source": [
        "data = json.loads(requests.get(url).text)"
      ],
      "metadata": {
        "id": "e7B3tzRtlugz"
      },
      "execution_count": 7,
      "outputs": []
    },
    {
      "cell_type": "code",
      "source": [
        "#data"
      ],
      "metadata": {
        "id": "Ft5K9qWlwaa7"
      },
      "execution_count": 8,
      "outputs": []
    },
    {
      "cell_type": "code",
      "source": [
        "pd.json_normalize(data)"
      ],
      "metadata": {
        "colab": {
          "base_uri": "https://localhost:8080/",
          "height": 135
        },
        "id": "8eKPlawewIYC",
        "outputId": "6a2877d8-c597-4012-a14e-4796747e2481"
      },
      "execution_count": 9,
      "outputs": [
        {
          "output_type": "execute_result",
          "data": {
            "text/plain": [
              "                                                help  success  \\\n",
              "0  https://data.wprdc.org/api/3/action/help_show?...     True   \n",
              "\n",
              "   result.include_total  result.limit result.records_format  \\\n",
              "0                  True           100               objects   \n",
              "\n",
              "                     result.resource_id result.total_estimation_threshold  \\\n",
              "0  e03a89dd-134a-4ee8-a2bd-62c40aeebc6f                              None   \n",
              "\n",
              "                                      result.records  \\\n",
              "0  [{'_id': 1, 'PK': '1975272', 'CCR': '16158872'...   \n",
              "\n",
              "                                       result.fields  \\\n",
              "0  [{'id': '_id', 'type': 'int'}, {'id': 'PK', 't...   \n",
              "\n",
              "                                 result._links.start  \\\n",
              "0  /api/3/action/datastore_search?resource_id=e03...   \n",
              "\n",
              "                                  result._links.next  result.total  \\\n",
              "0  /api/3/action/datastore_search?resource_id=e03...         65659   \n",
              "\n",
              "   result.total_was_estimated  \n",
              "0                       False  "
            ],
            "text/html": [
              "\n",
              "  <div id=\"df-746ed95c-c7e9-4766-9d2f-9664475d085b\" class=\"colab-df-container\">\n",
              "    <div>\n",
              "<style scoped>\n",
              "    .dataframe tbody tr th:only-of-type {\n",
              "        vertical-align: middle;\n",
              "    }\n",
              "\n",
              "    .dataframe tbody tr th {\n",
              "        vertical-align: top;\n",
              "    }\n",
              "\n",
              "    .dataframe thead th {\n",
              "        text-align: right;\n",
              "    }\n",
              "</style>\n",
              "<table border=\"1\" class=\"dataframe\">\n",
              "  <thead>\n",
              "    <tr style=\"text-align: right;\">\n",
              "      <th></th>\n",
              "      <th>help</th>\n",
              "      <th>success</th>\n",
              "      <th>result.include_total</th>\n",
              "      <th>result.limit</th>\n",
              "      <th>result.records_format</th>\n",
              "      <th>result.resource_id</th>\n",
              "      <th>result.total_estimation_threshold</th>\n",
              "      <th>result.records</th>\n",
              "      <th>result.fields</th>\n",
              "      <th>result._links.start</th>\n",
              "      <th>result._links.next</th>\n",
              "      <th>result.total</th>\n",
              "      <th>result.total_was_estimated</th>\n",
              "    </tr>\n",
              "  </thead>\n",
              "  <tbody>\n",
              "    <tr>\n",
              "      <th>0</th>\n",
              "      <td>https://data.wprdc.org/api/3/action/help_show?...</td>\n",
              "      <td>True</td>\n",
              "      <td>True</td>\n",
              "      <td>100</td>\n",
              "      <td>objects</td>\n",
              "      <td>e03a89dd-134a-4ee8-a2bd-62c40aeebc6f</td>\n",
              "      <td>None</td>\n",
              "      <td>[{'_id': 1, 'PK': '1975272', 'CCR': '16158872'...</td>\n",
              "      <td>[{'id': '_id', 'type': 'int'}, {'id': 'PK', 't...</td>\n",
              "      <td>/api/3/action/datastore_search?resource_id=e03...</td>\n",
              "      <td>/api/3/action/datastore_search?resource_id=e03...</td>\n",
              "      <td>65659</td>\n",
              "      <td>False</td>\n",
              "    </tr>\n",
              "  </tbody>\n",
              "</table>\n",
              "</div>\n",
              "    <div class=\"colab-df-buttons\">\n",
              "\n",
              "  <div class=\"colab-df-container\">\n",
              "    <button class=\"colab-df-convert\" onclick=\"convertToInteractive('df-746ed95c-c7e9-4766-9d2f-9664475d085b')\"\n",
              "            title=\"Convert this dataframe to an interactive table.\"\n",
              "            style=\"display:none;\">\n",
              "\n",
              "  <svg xmlns=\"http://www.w3.org/2000/svg\" height=\"24px\" viewBox=\"0 -960 960 960\">\n",
              "    <path d=\"M120-120v-720h720v720H120Zm60-500h600v-160H180v160Zm220 220h160v-160H400v160Zm0 220h160v-160H400v160ZM180-400h160v-160H180v160Zm440 0h160v-160H620v160ZM180-180h160v-160H180v160Zm440 0h160v-160H620v160Z\"/>\n",
              "  </svg>\n",
              "    </button>\n",
              "\n",
              "  <style>\n",
              "    .colab-df-container {\n",
              "      display:flex;\n",
              "      gap: 12px;\n",
              "    }\n",
              "\n",
              "    .colab-df-convert {\n",
              "      background-color: #E8F0FE;\n",
              "      border: none;\n",
              "      border-radius: 50%;\n",
              "      cursor: pointer;\n",
              "      display: none;\n",
              "      fill: #1967D2;\n",
              "      height: 32px;\n",
              "      padding: 0 0 0 0;\n",
              "      width: 32px;\n",
              "    }\n",
              "\n",
              "    .colab-df-convert:hover {\n",
              "      background-color: #E2EBFA;\n",
              "      box-shadow: 0px 1px 2px rgba(60, 64, 67, 0.3), 0px 1px 3px 1px rgba(60, 64, 67, 0.15);\n",
              "      fill: #174EA6;\n",
              "    }\n",
              "\n",
              "    .colab-df-buttons div {\n",
              "      margin-bottom: 4px;\n",
              "    }\n",
              "\n",
              "    [theme=dark] .colab-df-convert {\n",
              "      background-color: #3B4455;\n",
              "      fill: #D2E3FC;\n",
              "    }\n",
              "\n",
              "    [theme=dark] .colab-df-convert:hover {\n",
              "      background-color: #434B5C;\n",
              "      box-shadow: 0px 1px 3px 1px rgba(0, 0, 0, 0.15);\n",
              "      filter: drop-shadow(0px 1px 2px rgba(0, 0, 0, 0.3));\n",
              "      fill: #FFFFFF;\n",
              "    }\n",
              "  </style>\n",
              "\n",
              "    <script>\n",
              "      const buttonEl =\n",
              "        document.querySelector('#df-746ed95c-c7e9-4766-9d2f-9664475d085b button.colab-df-convert');\n",
              "      buttonEl.style.display =\n",
              "        google.colab.kernel.accessAllowed ? 'block' : 'none';\n",
              "\n",
              "      async function convertToInteractive(key) {\n",
              "        const element = document.querySelector('#df-746ed95c-c7e9-4766-9d2f-9664475d085b');\n",
              "        const dataTable =\n",
              "          await google.colab.kernel.invokeFunction('convertToInteractive',\n",
              "                                                    [key], {});\n",
              "        if (!dataTable) return;\n",
              "\n",
              "        const docLinkHtml = 'Like what you see? Visit the ' +\n",
              "          '<a target=\"_blank\" href=https://colab.research.google.com/notebooks/data_table.ipynb>data table notebook</a>'\n",
              "          + ' to learn more about interactive tables.';\n",
              "        element.innerHTML = '';\n",
              "        dataTable['output_type'] = 'display_data';\n",
              "        await google.colab.output.renderOutput(dataTable, element);\n",
              "        const docLink = document.createElement('div');\n",
              "        docLink.innerHTML = docLinkHtml;\n",
              "        element.appendChild(docLink);\n",
              "      }\n",
              "    </script>\n",
              "  </div>\n",
              "\n",
              "\n",
              "    </div>\n",
              "  </div>\n"
            ]
          },
          "metadata": {},
          "execution_count": 9
        }
      ]
    },
    {
      "cell_type": "code",
      "source": [
        "data['result']['records'][0:3]"
      ],
      "metadata": {
        "id": "7Hw5Uwp3mUYR",
        "colab": {
          "base_uri": "https://localhost:8080/"
        },
        "outputId": "cd883606-49aa-438d-d205-7f70e975ee2d"
      },
      "execution_count": 10,
      "outputs": [
        {
          "output_type": "execute_result",
          "data": {
            "text/plain": [
              "[{'_id': 1,\n",
              "  'PK': '1975272',\n",
              "  'CCR': '16158872',\n",
              "  'AGE': 42,\n",
              "  'GENDER': 'F',\n",
              "  'RACE': 'B',\n",
              "  'ARRESTTIME': '2016-08-24T12:20:00',\n",
              "  'ARRESTLOCATION': '4700 Block Centre AV Pittsburgh, PA 15213',\n",
              "  'OFFENSES': '3929 Retail Theft.',\n",
              "  'INCIDENTLOCATION': '4700 Block Centre AV Pittsburgh, PA 15213',\n",
              "  'INCIDENTNEIGHBORHOOD': 'Bloomfield',\n",
              "  'INCIDENTZONE': '5',\n",
              "  'INCIDENTTRACT': '804',\n",
              "  'COUNCIL_DISTRICT': '8',\n",
              "  'PUBLIC_WORKS_DIVISION': '2',\n",
              "  'X': -79.94927741,\n",
              "  'Y': 40.45255125},\n",
              " {'_id': 2,\n",
              "  'PK': '1974456',\n",
              "  'CCR': '16144120',\n",
              "  'AGE': 31,\n",
              "  'GENDER': 'M',\n",
              "  'RACE': 'W',\n",
              "  'ARRESTTIME': '2016-08-03T14:55:00',\n",
              "  'ARRESTLOCATION': '4200 Block Steubenville PKE Pittsburgh, PA 15205',\n",
              "  'OFFENSES': '13(a)(16) Possession of Controlled Substance',\n",
              "  'INCIDENTLOCATION': '4200 Block Steubenville PKE Pittsburgh, PA 15205',\n",
              "  'INCIDENTNEIGHBORHOOD': 'Outside City',\n",
              "  'INCIDENTZONE': 'OSC',\n",
              "  'INCIDENTTRACT': '5599',\n",
              "  'COUNCIL_DISTRICT': None,\n",
              "  'PUBLIC_WORKS_DIVISION': None,\n",
              "  'X': -80.08801806,\n",
              "  'Y': 40.44013633},\n",
              " {'_id': 3,\n",
              "  'PK': '1974466',\n",
              "  'CCR': '16144165',\n",
              "  'AGE': 63,\n",
              "  'GENDER': 'F',\n",
              "  'RACE': 'B',\n",
              "  'ARRESTTIME': '2016-08-03T16:45:00',\n",
              "  'ARRESTLOCATION': '900 Block Freeport RD Fox Chapel, PA 15238',\n",
              "  'OFFENSES': '3929 Retail Theft.',\n",
              "  'INCIDENTLOCATION': '900 Block Freeport RD Fox Chapel, PA 15238',\n",
              "  'INCIDENTNEIGHBORHOOD': 'Westwood',\n",
              "  'INCIDENTZONE': '5',\n",
              "  'INCIDENTTRACT': '2811',\n",
              "  'COUNCIL_DISTRICT': '9',\n",
              "  'PUBLIC_WORKS_DIVISION': '2',\n",
              "  'X': -79.89180294,\n",
              "  'Y': 40.48662475}]"
            ]
          },
          "metadata": {},
          "execution_count": 10
        }
      ]
    },
    {
      "cell_type": "code",
      "source": [
        "pd.json_normalize(data['result']['records'])"
      ],
      "metadata": {
        "colab": {
          "base_uri": "https://localhost:8080/",
          "height": 1000
        },
        "id": "zkFasRWhknrR",
        "outputId": "9ff80986-d6cb-4865-9e04-b05f109a8167"
      },
      "execution_count": 11,
      "outputs": [
        {
          "output_type": "execute_result",
          "data": {
            "text/plain": [
              "    _id       PK       CCR   AGE GENDER RACE           ARRESTTIME  \\\n",
              "0     1  1975272  16158872  42.0      F    B  2016-08-24T12:20:00   \n",
              "1     2  1974456  16144120  31.0      M    W  2016-08-03T14:55:00   \n",
              "2     3  1974466  16144165  63.0      F    B  2016-08-03T16:45:00   \n",
              "3     4  1974550  16145257  25.0      F    W  2016-08-05T02:36:00   \n",
              "4     5  1974596  16145962  25.0      M    B  2016-08-06T02:00:00   \n",
              "..  ...      ...       ...   ...    ...  ...                  ...   \n",
              "95   96  1975358  16162854  35.0      M    B  2016-08-29T23:33:00   \n",
              "96   97  1974535  16145596  25.0      F    B  2016-08-05T15:26:00   \n",
              "97   98  1974941  16155030  34.0      M    W  2016-08-18T22:46:00   \n",
              "98   99  1974954  16091081  20.0      M    B  2016-09-07T01:30:00   \n",
              "99  100  1974940  16154303  27.0      M    W  2016-08-17T22:28:00   \n",
              "\n",
              "                                      ARRESTLOCATION  \\\n",
              "0          4700 Block Centre AV Pittsburgh, PA 15213   \n",
              "1   4200 Block Steubenville PKE Pittsburgh, PA 15205   \n",
              "2         900 Block Freeport RD Fox Chapel, PA 15238   \n",
              "3        Foreland ST & Cedar AV Pittsburgh, PA 15212   \n",
              "4          900 Block Woodlow ST Pittsburgh, PA 15205   \n",
              "..                                               ...   \n",
              "95        700 Block Brushton AV Pittsburgh, PA 15221   \n",
              "96        5800 Block Forward AV Pittsburgh, PA 15217   \n",
              "97       lamar ST & Williams RD Pittsburgh, PA 15212   \n",
              "98             900 Block 2ND AV Pittsburgh, PA 15219   \n",
              "99            900 Block Mina ST Pittsburgh, PA 15212   \n",
              "\n",
              "                                             OFFENSES  \\\n",
              "0                                  3929 Retail Theft.   \n",
              "1        13(a)(16) Possession of Controlled Substance   \n",
              "2                                  3929 Retail Theft.   \n",
              "3   5503 Disorderly Conduct. / 5505 Public Drunken...   \n",
              "4   2702 Aggravated Assault. / 2705 Recklessy Enda...   \n",
              "..                                                ...   \n",
              "95  13(a)(16) Possession of Controlled Substance /...   \n",
              "96  13(a)(16) Possession of Controlled Substance /...   \n",
              "97       13(a)(16) Possession of Controlled Substance   \n",
              "98  2706 Terroristic Threats. / 2701(a)(3) Simple ...   \n",
              "99  2706 Terroristic Threats. / 5104 Resisting Arr...   \n",
              "\n",
              "                                    INCIDENTLOCATION   INCIDENTNEIGHBORHOOD  \\\n",
              "0          4700 Block Centre AV Pittsburgh, PA 15213             Bloomfield   \n",
              "1   4200 Block Steubenville PKE Pittsburgh, PA 15205           Outside City   \n",
              "2         900 Block Freeport RD Fox Chapel, PA 15238               Westwood   \n",
              "3        Foreland ST & Cedar AV Pittsburgh, PA 15212         East Allegheny   \n",
              "4          900 Block Woodlow ST Pittsburgh, PA 15205        Crafton Heights   \n",
              "..                                               ...                    ...   \n",
              "95        700 Block Brushton AV Pittsburgh, PA 15221         Homewood South   \n",
              "96        5800 Block Forward AV Pittsburgh, PA 15217    Squirrel Hill South   \n",
              "97       lamar ST & Williams RD Pittsburgh, PA 15212      Northview Heights   \n",
              "98         2600 Block Centre AV Pittsburgh, PA 15219        Terrace Village   \n",
              "99            900 Block Mina ST Pittsburgh, PA 15212  Spring Hill-City View   \n",
              "\n",
              "   INCIDENTZONE INCIDENTTRACT COUNCIL_DISTRICT PUBLIC_WORKS_DIVISION  \\\n",
              "0             5           804                8                     2   \n",
              "1           OSC          5599             None                  None   \n",
              "2             5          2811                9                     2   \n",
              "3             1          2304                1                     1   \n",
              "4             5          2814                2                     5   \n",
              "..          ...           ...              ...                   ...   \n",
              "95            5          1304                9                     2   \n",
              "96            4          1408                5                     3   \n",
              "97            1          2609                1                     1   \n",
              "98            2           510                6                     3   \n",
              "99            1          2620                1                     1   \n",
              "\n",
              "            X          Y  \n",
              "0  -79.949277  40.452551  \n",
              "1  -80.088018  40.440136  \n",
              "2  -79.891803  40.486625  \n",
              "3  -80.001939  40.454080  \n",
              "4  -80.052204  40.445900  \n",
              "..        ...        ...  \n",
              "95 -79.888741  40.453675  \n",
              "96 -79.923357  40.429595  \n",
              "97 -79.997696  40.474594  \n",
              "98 -79.968417  40.446533  \n",
              "99 -79.999184  40.468949  \n",
              "\n",
              "[100 rows x 17 columns]"
            ],
            "text/html": [
              "\n",
              "  <div id=\"df-8d6eb122-cfe5-460e-8092-1a134f263712\" class=\"colab-df-container\">\n",
              "    <div>\n",
              "<style scoped>\n",
              "    .dataframe tbody tr th:only-of-type {\n",
              "        vertical-align: middle;\n",
              "    }\n",
              "\n",
              "    .dataframe tbody tr th {\n",
              "        vertical-align: top;\n",
              "    }\n",
              "\n",
              "    .dataframe thead th {\n",
              "        text-align: right;\n",
              "    }\n",
              "</style>\n",
              "<table border=\"1\" class=\"dataframe\">\n",
              "  <thead>\n",
              "    <tr style=\"text-align: right;\">\n",
              "      <th></th>\n",
              "      <th>_id</th>\n",
              "      <th>PK</th>\n",
              "      <th>CCR</th>\n",
              "      <th>AGE</th>\n",
              "      <th>GENDER</th>\n",
              "      <th>RACE</th>\n",
              "      <th>ARRESTTIME</th>\n",
              "      <th>ARRESTLOCATION</th>\n",
              "      <th>OFFENSES</th>\n",
              "      <th>INCIDENTLOCATION</th>\n",
              "      <th>INCIDENTNEIGHBORHOOD</th>\n",
              "      <th>INCIDENTZONE</th>\n",
              "      <th>INCIDENTTRACT</th>\n",
              "      <th>COUNCIL_DISTRICT</th>\n",
              "      <th>PUBLIC_WORKS_DIVISION</th>\n",
              "      <th>X</th>\n",
              "      <th>Y</th>\n",
              "    </tr>\n",
              "  </thead>\n",
              "  <tbody>\n",
              "    <tr>\n",
              "      <th>0</th>\n",
              "      <td>1</td>\n",
              "      <td>1975272</td>\n",
              "      <td>16158872</td>\n",
              "      <td>42.0</td>\n",
              "      <td>F</td>\n",
              "      <td>B</td>\n",
              "      <td>2016-08-24T12:20:00</td>\n",
              "      <td>4700 Block Centre AV Pittsburgh, PA 15213</td>\n",
              "      <td>3929 Retail Theft.</td>\n",
              "      <td>4700 Block Centre AV Pittsburgh, PA 15213</td>\n",
              "      <td>Bloomfield</td>\n",
              "      <td>5</td>\n",
              "      <td>804</td>\n",
              "      <td>8</td>\n",
              "      <td>2</td>\n",
              "      <td>-79.949277</td>\n",
              "      <td>40.452551</td>\n",
              "    </tr>\n",
              "    <tr>\n",
              "      <th>1</th>\n",
              "      <td>2</td>\n",
              "      <td>1974456</td>\n",
              "      <td>16144120</td>\n",
              "      <td>31.0</td>\n",
              "      <td>M</td>\n",
              "      <td>W</td>\n",
              "      <td>2016-08-03T14:55:00</td>\n",
              "      <td>4200 Block Steubenville PKE Pittsburgh, PA 15205</td>\n",
              "      <td>13(a)(16) Possession of Controlled Substance</td>\n",
              "      <td>4200 Block Steubenville PKE Pittsburgh, PA 15205</td>\n",
              "      <td>Outside City</td>\n",
              "      <td>OSC</td>\n",
              "      <td>5599</td>\n",
              "      <td>None</td>\n",
              "      <td>None</td>\n",
              "      <td>-80.088018</td>\n",
              "      <td>40.440136</td>\n",
              "    </tr>\n",
              "    <tr>\n",
              "      <th>2</th>\n",
              "      <td>3</td>\n",
              "      <td>1974466</td>\n",
              "      <td>16144165</td>\n",
              "      <td>63.0</td>\n",
              "      <td>F</td>\n",
              "      <td>B</td>\n",
              "      <td>2016-08-03T16:45:00</td>\n",
              "      <td>900 Block Freeport RD Fox Chapel, PA 15238</td>\n",
              "      <td>3929 Retail Theft.</td>\n",
              "      <td>900 Block Freeport RD Fox Chapel, PA 15238</td>\n",
              "      <td>Westwood</td>\n",
              "      <td>5</td>\n",
              "      <td>2811</td>\n",
              "      <td>9</td>\n",
              "      <td>2</td>\n",
              "      <td>-79.891803</td>\n",
              "      <td>40.486625</td>\n",
              "    </tr>\n",
              "    <tr>\n",
              "      <th>3</th>\n",
              "      <td>4</td>\n",
              "      <td>1974550</td>\n",
              "      <td>16145257</td>\n",
              "      <td>25.0</td>\n",
              "      <td>F</td>\n",
              "      <td>W</td>\n",
              "      <td>2016-08-05T02:36:00</td>\n",
              "      <td>Foreland ST &amp; Cedar AV Pittsburgh, PA 15212</td>\n",
              "      <td>5503 Disorderly Conduct. / 5505 Public Drunken...</td>\n",
              "      <td>Foreland ST &amp; Cedar AV Pittsburgh, PA 15212</td>\n",
              "      <td>East Allegheny</td>\n",
              "      <td>1</td>\n",
              "      <td>2304</td>\n",
              "      <td>1</td>\n",
              "      <td>1</td>\n",
              "      <td>-80.001939</td>\n",
              "      <td>40.454080</td>\n",
              "    </tr>\n",
              "    <tr>\n",
              "      <th>4</th>\n",
              "      <td>5</td>\n",
              "      <td>1974596</td>\n",
              "      <td>16145962</td>\n",
              "      <td>25.0</td>\n",
              "      <td>M</td>\n",
              "      <td>B</td>\n",
              "      <td>2016-08-06T02:00:00</td>\n",
              "      <td>900 Block Woodlow ST Pittsburgh, PA 15205</td>\n",
              "      <td>2702 Aggravated Assault. / 2705 Recklessy Enda...</td>\n",
              "      <td>900 Block Woodlow ST Pittsburgh, PA 15205</td>\n",
              "      <td>Crafton Heights</td>\n",
              "      <td>5</td>\n",
              "      <td>2814</td>\n",
              "      <td>2</td>\n",
              "      <td>5</td>\n",
              "      <td>-80.052204</td>\n",
              "      <td>40.445900</td>\n",
              "    </tr>\n",
              "    <tr>\n",
              "      <th>...</th>\n",
              "      <td>...</td>\n",
              "      <td>...</td>\n",
              "      <td>...</td>\n",
              "      <td>...</td>\n",
              "      <td>...</td>\n",
              "      <td>...</td>\n",
              "      <td>...</td>\n",
              "      <td>...</td>\n",
              "      <td>...</td>\n",
              "      <td>...</td>\n",
              "      <td>...</td>\n",
              "      <td>...</td>\n",
              "      <td>...</td>\n",
              "      <td>...</td>\n",
              "      <td>...</td>\n",
              "      <td>...</td>\n",
              "      <td>...</td>\n",
              "    </tr>\n",
              "    <tr>\n",
              "      <th>95</th>\n",
              "      <td>96</td>\n",
              "      <td>1975358</td>\n",
              "      <td>16162854</td>\n",
              "      <td>35.0</td>\n",
              "      <td>M</td>\n",
              "      <td>B</td>\n",
              "      <td>2016-08-29T23:33:00</td>\n",
              "      <td>700 Block Brushton AV Pittsburgh, PA 15221</td>\n",
              "      <td>13(a)(16) Possession of Controlled Substance /...</td>\n",
              "      <td>700 Block Brushton AV Pittsburgh, PA 15221</td>\n",
              "      <td>Homewood South</td>\n",
              "      <td>5</td>\n",
              "      <td>1304</td>\n",
              "      <td>9</td>\n",
              "      <td>2</td>\n",
              "      <td>-79.888741</td>\n",
              "      <td>40.453675</td>\n",
              "    </tr>\n",
              "    <tr>\n",
              "      <th>96</th>\n",
              "      <td>97</td>\n",
              "      <td>1974535</td>\n",
              "      <td>16145596</td>\n",
              "      <td>25.0</td>\n",
              "      <td>F</td>\n",
              "      <td>B</td>\n",
              "      <td>2016-08-05T15:26:00</td>\n",
              "      <td>5800 Block Forward AV Pittsburgh, PA 15217</td>\n",
              "      <td>13(a)(16) Possession of Controlled Substance /...</td>\n",
              "      <td>5800 Block Forward AV Pittsburgh, PA 15217</td>\n",
              "      <td>Squirrel Hill South</td>\n",
              "      <td>4</td>\n",
              "      <td>1408</td>\n",
              "      <td>5</td>\n",
              "      <td>3</td>\n",
              "      <td>-79.923357</td>\n",
              "      <td>40.429595</td>\n",
              "    </tr>\n",
              "    <tr>\n",
              "      <th>97</th>\n",
              "      <td>98</td>\n",
              "      <td>1974941</td>\n",
              "      <td>16155030</td>\n",
              "      <td>34.0</td>\n",
              "      <td>M</td>\n",
              "      <td>W</td>\n",
              "      <td>2016-08-18T22:46:00</td>\n",
              "      <td>lamar ST &amp; Williams RD Pittsburgh, PA 15212</td>\n",
              "      <td>13(a)(16) Possession of Controlled Substance</td>\n",
              "      <td>lamar ST &amp; Williams RD Pittsburgh, PA 15212</td>\n",
              "      <td>Northview Heights</td>\n",
              "      <td>1</td>\n",
              "      <td>2609</td>\n",
              "      <td>1</td>\n",
              "      <td>1</td>\n",
              "      <td>-79.997696</td>\n",
              "      <td>40.474594</td>\n",
              "    </tr>\n",
              "    <tr>\n",
              "      <th>98</th>\n",
              "      <td>99</td>\n",
              "      <td>1974954</td>\n",
              "      <td>16091081</td>\n",
              "      <td>20.0</td>\n",
              "      <td>M</td>\n",
              "      <td>B</td>\n",
              "      <td>2016-09-07T01:30:00</td>\n",
              "      <td>900 Block 2ND AV Pittsburgh, PA 15219</td>\n",
              "      <td>2706 Terroristic Threats. / 2701(a)(3) Simple ...</td>\n",
              "      <td>2600 Block Centre AV Pittsburgh, PA 15219</td>\n",
              "      <td>Terrace Village</td>\n",
              "      <td>2</td>\n",
              "      <td>510</td>\n",
              "      <td>6</td>\n",
              "      <td>3</td>\n",
              "      <td>-79.968417</td>\n",
              "      <td>40.446533</td>\n",
              "    </tr>\n",
              "    <tr>\n",
              "      <th>99</th>\n",
              "      <td>100</td>\n",
              "      <td>1974940</td>\n",
              "      <td>16154303</td>\n",
              "      <td>27.0</td>\n",
              "      <td>M</td>\n",
              "      <td>W</td>\n",
              "      <td>2016-08-17T22:28:00</td>\n",
              "      <td>900 Block Mina ST Pittsburgh, PA 15212</td>\n",
              "      <td>2706 Terroristic Threats. / 5104 Resisting Arr...</td>\n",
              "      <td>900 Block Mina ST Pittsburgh, PA 15212</td>\n",
              "      <td>Spring Hill-City View</td>\n",
              "      <td>1</td>\n",
              "      <td>2620</td>\n",
              "      <td>1</td>\n",
              "      <td>1</td>\n",
              "      <td>-79.999184</td>\n",
              "      <td>40.468949</td>\n",
              "    </tr>\n",
              "  </tbody>\n",
              "</table>\n",
              "<p>100 rows × 17 columns</p>\n",
              "</div>\n",
              "    <div class=\"colab-df-buttons\">\n",
              "\n",
              "  <div class=\"colab-df-container\">\n",
              "    <button class=\"colab-df-convert\" onclick=\"convertToInteractive('df-8d6eb122-cfe5-460e-8092-1a134f263712')\"\n",
              "            title=\"Convert this dataframe to an interactive table.\"\n",
              "            style=\"display:none;\">\n",
              "\n",
              "  <svg xmlns=\"http://www.w3.org/2000/svg\" height=\"24px\" viewBox=\"0 -960 960 960\">\n",
              "    <path d=\"M120-120v-720h720v720H120Zm60-500h600v-160H180v160Zm220 220h160v-160H400v160Zm0 220h160v-160H400v160ZM180-400h160v-160H180v160Zm440 0h160v-160H620v160ZM180-180h160v-160H180v160Zm440 0h160v-160H620v160Z\"/>\n",
              "  </svg>\n",
              "    </button>\n",
              "\n",
              "  <style>\n",
              "    .colab-df-container {\n",
              "      display:flex;\n",
              "      gap: 12px;\n",
              "    }\n",
              "\n",
              "    .colab-df-convert {\n",
              "      background-color: #E8F0FE;\n",
              "      border: none;\n",
              "      border-radius: 50%;\n",
              "      cursor: pointer;\n",
              "      display: none;\n",
              "      fill: #1967D2;\n",
              "      height: 32px;\n",
              "      padding: 0 0 0 0;\n",
              "      width: 32px;\n",
              "    }\n",
              "\n",
              "    .colab-df-convert:hover {\n",
              "      background-color: #E2EBFA;\n",
              "      box-shadow: 0px 1px 2px rgba(60, 64, 67, 0.3), 0px 1px 3px 1px rgba(60, 64, 67, 0.15);\n",
              "      fill: #174EA6;\n",
              "    }\n",
              "\n",
              "    .colab-df-buttons div {\n",
              "      margin-bottom: 4px;\n",
              "    }\n",
              "\n",
              "    [theme=dark] .colab-df-convert {\n",
              "      background-color: #3B4455;\n",
              "      fill: #D2E3FC;\n",
              "    }\n",
              "\n",
              "    [theme=dark] .colab-df-convert:hover {\n",
              "      background-color: #434B5C;\n",
              "      box-shadow: 0px 1px 3px 1px rgba(0, 0, 0, 0.15);\n",
              "      filter: drop-shadow(0px 1px 2px rgba(0, 0, 0, 0.3));\n",
              "      fill: #FFFFFF;\n",
              "    }\n",
              "  </style>\n",
              "\n",
              "    <script>\n",
              "      const buttonEl =\n",
              "        document.querySelector('#df-8d6eb122-cfe5-460e-8092-1a134f263712 button.colab-df-convert');\n",
              "      buttonEl.style.display =\n",
              "        google.colab.kernel.accessAllowed ? 'block' : 'none';\n",
              "\n",
              "      async function convertToInteractive(key) {\n",
              "        const element = document.querySelector('#df-8d6eb122-cfe5-460e-8092-1a134f263712');\n",
              "        const dataTable =\n",
              "          await google.colab.kernel.invokeFunction('convertToInteractive',\n",
              "                                                    [key], {});\n",
              "        if (!dataTable) return;\n",
              "\n",
              "        const docLinkHtml = 'Like what you see? Visit the ' +\n",
              "          '<a target=\"_blank\" href=https://colab.research.google.com/notebooks/data_table.ipynb>data table notebook</a>'\n",
              "          + ' to learn more about interactive tables.';\n",
              "        element.innerHTML = '';\n",
              "        dataTable['output_type'] = 'display_data';\n",
              "        await google.colab.output.renderOutput(dataTable, element);\n",
              "        const docLink = document.createElement('div');\n",
              "        docLink.innerHTML = docLinkHtml;\n",
              "        element.appendChild(docLink);\n",
              "      }\n",
              "    </script>\n",
              "  </div>\n",
              "\n",
              "\n",
              "<div id=\"df-1e646751-69d4-4d27-80d2-f7b6ebd0dd16\">\n",
              "  <button class=\"colab-df-quickchart\" onclick=\"quickchart('df-1e646751-69d4-4d27-80d2-f7b6ebd0dd16')\"\n",
              "            title=\"Suggest charts\"\n",
              "            style=\"display:none;\">\n",
              "\n",
              "<svg xmlns=\"http://www.w3.org/2000/svg\" height=\"24px\"viewBox=\"0 0 24 24\"\n",
              "     width=\"24px\">\n",
              "    <g>\n",
              "        <path d=\"M19 3H5c-1.1 0-2 .9-2 2v14c0 1.1.9 2 2 2h14c1.1 0 2-.9 2-2V5c0-1.1-.9-2-2-2zM9 17H7v-7h2v7zm4 0h-2V7h2v10zm4 0h-2v-4h2v4z\"/>\n",
              "    </g>\n",
              "</svg>\n",
              "  </button>\n",
              "\n",
              "<style>\n",
              "  .colab-df-quickchart {\n",
              "      --bg-color: #E8F0FE;\n",
              "      --fill-color: #1967D2;\n",
              "      --hover-bg-color: #E2EBFA;\n",
              "      --hover-fill-color: #174EA6;\n",
              "      --disabled-fill-color: #AAA;\n",
              "      --disabled-bg-color: #DDD;\n",
              "  }\n",
              "\n",
              "  [theme=dark] .colab-df-quickchart {\n",
              "      --bg-color: #3B4455;\n",
              "      --fill-color: #D2E3FC;\n",
              "      --hover-bg-color: #434B5C;\n",
              "      --hover-fill-color: #FFFFFF;\n",
              "      --disabled-bg-color: #3B4455;\n",
              "      --disabled-fill-color: #666;\n",
              "  }\n",
              "\n",
              "  .colab-df-quickchart {\n",
              "    background-color: var(--bg-color);\n",
              "    border: none;\n",
              "    border-radius: 50%;\n",
              "    cursor: pointer;\n",
              "    display: none;\n",
              "    fill: var(--fill-color);\n",
              "    height: 32px;\n",
              "    padding: 0;\n",
              "    width: 32px;\n",
              "  }\n",
              "\n",
              "  .colab-df-quickchart:hover {\n",
              "    background-color: var(--hover-bg-color);\n",
              "    box-shadow: 0 1px 2px rgba(60, 64, 67, 0.3), 0 1px 3px 1px rgba(60, 64, 67, 0.15);\n",
              "    fill: var(--button-hover-fill-color);\n",
              "  }\n",
              "\n",
              "  .colab-df-quickchart-complete:disabled,\n",
              "  .colab-df-quickchart-complete:disabled:hover {\n",
              "    background-color: var(--disabled-bg-color);\n",
              "    fill: var(--disabled-fill-color);\n",
              "    box-shadow: none;\n",
              "  }\n",
              "\n",
              "  .colab-df-spinner {\n",
              "    border: 2px solid var(--fill-color);\n",
              "    border-color: transparent;\n",
              "    border-bottom-color: var(--fill-color);\n",
              "    animation:\n",
              "      spin 1s steps(1) infinite;\n",
              "  }\n",
              "\n",
              "  @keyframes spin {\n",
              "    0% {\n",
              "      border-color: transparent;\n",
              "      border-bottom-color: var(--fill-color);\n",
              "      border-left-color: var(--fill-color);\n",
              "    }\n",
              "    20% {\n",
              "      border-color: transparent;\n",
              "      border-left-color: var(--fill-color);\n",
              "      border-top-color: var(--fill-color);\n",
              "    }\n",
              "    30% {\n",
              "      border-color: transparent;\n",
              "      border-left-color: var(--fill-color);\n",
              "      border-top-color: var(--fill-color);\n",
              "      border-right-color: var(--fill-color);\n",
              "    }\n",
              "    40% {\n",
              "      border-color: transparent;\n",
              "      border-right-color: var(--fill-color);\n",
              "      border-top-color: var(--fill-color);\n",
              "    }\n",
              "    60% {\n",
              "      border-color: transparent;\n",
              "      border-right-color: var(--fill-color);\n",
              "    }\n",
              "    80% {\n",
              "      border-color: transparent;\n",
              "      border-right-color: var(--fill-color);\n",
              "      border-bottom-color: var(--fill-color);\n",
              "    }\n",
              "    90% {\n",
              "      border-color: transparent;\n",
              "      border-bottom-color: var(--fill-color);\n",
              "    }\n",
              "  }\n",
              "</style>\n",
              "\n",
              "  <script>\n",
              "    async function quickchart(key) {\n",
              "      const quickchartButtonEl =\n",
              "        document.querySelector('#' + key + ' button');\n",
              "      quickchartButtonEl.disabled = true;  // To prevent multiple clicks.\n",
              "      quickchartButtonEl.classList.add('colab-df-spinner');\n",
              "      try {\n",
              "        const charts = await google.colab.kernel.invokeFunction(\n",
              "            'suggestCharts', [key], {});\n",
              "      } catch (error) {\n",
              "        console.error('Error during call to suggestCharts:', error);\n",
              "      }\n",
              "      quickchartButtonEl.classList.remove('colab-df-spinner');\n",
              "      quickchartButtonEl.classList.add('colab-df-quickchart-complete');\n",
              "    }\n",
              "    (() => {\n",
              "      let quickchartButtonEl =\n",
              "        document.querySelector('#df-1e646751-69d4-4d27-80d2-f7b6ebd0dd16 button');\n",
              "      quickchartButtonEl.style.display =\n",
              "        google.colab.kernel.accessAllowed ? 'block' : 'none';\n",
              "    })();\n",
              "  </script>\n",
              "</div>\n",
              "\n",
              "    </div>\n",
              "  </div>\n"
            ]
          },
          "metadata": {},
          "execution_count": 11
        }
      ]
    },
    {
      "cell_type": "code",
      "source": [
        "df_from_api = pd.json_normalize(data['result']['records'])"
      ],
      "metadata": {
        "id": "M7EW8Sxwo9PK"
      },
      "execution_count": 12,
      "outputs": []
    },
    {
      "cell_type": "markdown",
      "source": [
        "#### Explore the data"
      ],
      "metadata": {
        "id": "j6hE2vRmtsFf"
      }
    },
    {
      "cell_type": "code",
      "source": [
        "df_from_api.info()"
      ],
      "metadata": {
        "colab": {
          "base_uri": "https://localhost:8080/"
        },
        "id": "18LkRE6npo_D",
        "outputId": "ff8e6911-3dd7-4599-e0bc-59f1dc031568"
      },
      "execution_count": 13,
      "outputs": [
        {
          "output_type": "stream",
          "name": "stdout",
          "text": [
            "<class 'pandas.core.frame.DataFrame'>\n",
            "RangeIndex: 100 entries, 0 to 99\n",
            "Data columns (total 17 columns):\n",
            " #   Column                 Non-Null Count  Dtype  \n",
            "---  ------                 --------------  -----  \n",
            " 0   _id                    100 non-null    int64  \n",
            " 1   PK                     100 non-null    object \n",
            " 2   CCR                    100 non-null    object \n",
            " 3   AGE                    98 non-null     float64\n",
            " 4   GENDER                 100 non-null    object \n",
            " 5   RACE                   100 non-null    object \n",
            " 6   ARRESTTIME             100 non-null    object \n",
            " 7   ARRESTLOCATION         100 non-null    object \n",
            " 8   OFFENSES               100 non-null    object \n",
            " 9   INCIDENTLOCATION       100 non-null    object \n",
            " 10  INCIDENTNEIGHBORHOOD   97 non-null     object \n",
            " 11  INCIDENTZONE           100 non-null    object \n",
            " 12  INCIDENTTRACT          97 non-null     object \n",
            " 13  COUNCIL_DISTRICT       92 non-null     object \n",
            " 14  PUBLIC_WORKS_DIVISION  92 non-null     object \n",
            " 15  X                      95 non-null     float64\n",
            " 16  Y                      95 non-null     float64\n",
            "dtypes: float64(3), int64(1), object(13)\n",
            "memory usage: 13.4+ KB\n"
          ]
        }
      ]
    },
    {
      "cell_type": "markdown",
      "source": [
        "#### Read the data from downloaded CSV file"
      ],
      "metadata": {
        "id": "cBcjlLM0HhgH"
      }
    },
    {
      "cell_type": "code",
      "source": [
        "csv_url = 'https://raw.githubusercontent.com/trailmarkerlib/pythonWorkshop/main/data/e03a89dd-134a-4ee8-a2bd-62c40aeebc6f.csv'"
      ],
      "metadata": {
        "id": "SHypE1KPghVS"
      },
      "execution_count": 14,
      "outputs": []
    },
    {
      "cell_type": "code",
      "source": [
        "df_from_csv = pd.read_csv(csv_url)"
      ],
      "metadata": {
        "colab": {
          "base_uri": "https://localhost:8080/"
        },
        "id": "1-tYFL96I546",
        "outputId": "92c01800-ae3d-4160-d208-7dc0d908852a"
      },
      "execution_count": 15,
      "outputs": [
        {
          "output_type": "stream",
          "name": "stderr",
          "text": [
            "<ipython-input-15-92457aacf929>:1: DtypeWarning: Columns (11) have mixed types. Specify dtype option on import or set low_memory=False.\n",
            "  df_from_csv = pd.read_csv(csv_url)\n"
          ]
        }
      ]
    },
    {
      "cell_type": "code",
      "source": [
        "df_from_csv = pd.read_csv(csv_url, low_memory = False)"
      ],
      "metadata": {
        "id": "m6O36SeKIw-f"
      },
      "execution_count": 16,
      "outputs": []
    },
    {
      "cell_type": "code",
      "source": [
        "df_from_csv.info()"
      ],
      "metadata": {
        "colab": {
          "base_uri": "https://localhost:8080/"
        },
        "id": "x3WdVWoMHgzN",
        "outputId": "62054ae0-75e8-436e-b96f-493a58add001"
      },
      "execution_count": 17,
      "outputs": [
        {
          "output_type": "stream",
          "name": "stdout",
          "text": [
            "<class 'pandas.core.frame.DataFrame'>\n",
            "RangeIndex: 65659 entries, 0 to 65658\n",
            "Data columns (total 17 columns):\n",
            " #   Column                 Non-Null Count  Dtype  \n",
            "---  ------                 --------------  -----  \n",
            " 0   _id                    65659 non-null  int64  \n",
            " 1   PK                     65659 non-null  int64  \n",
            " 2   CCR                    65659 non-null  int64  \n",
            " 3   AGE                    65256 non-null  float64\n",
            " 4   GENDER                 65659 non-null  object \n",
            " 5   RACE                   65659 non-null  object \n",
            " 6   ARRESTTIME             65659 non-null  object \n",
            " 7   ARRESTLOCATION         65659 non-null  object \n",
            " 8   OFFENSES               65656 non-null  object \n",
            " 9   INCIDENTLOCATION       65659 non-null  object \n",
            " 10  INCIDENTNEIGHBORHOOD   63199 non-null  object \n",
            " 11  INCIDENTZONE           65559 non-null  object \n",
            " 12  INCIDENTTRACT          63222 non-null  float64\n",
            " 13  COUNCIL_DISTRICT       55592 non-null  float64\n",
            " 14  PUBLIC_WORKS_DIVISION  55592 non-null  float64\n",
            " 15  X                      56607 non-null  float64\n",
            " 16  Y                      56607 non-null  float64\n",
            "dtypes: float64(6), int64(3), object(8)\n",
            "memory usage: 8.5+ MB\n"
          ]
        }
      ]
    },
    {
      "cell_type": "markdown",
      "source": [
        "#### Choose data to explore"
      ],
      "metadata": {
        "id": "dDhKmi7_Hpp5"
      }
    },
    {
      "cell_type": "code",
      "source": [
        "df_init = df_from_csv.copy()"
      ],
      "metadata": {
        "id": "_38xloRNgwLi"
      },
      "execution_count": 20,
      "outputs": []
    },
    {
      "cell_type": "code",
      "source": [
        "df_init.columns"
      ],
      "metadata": {
        "id": "2EyqMjRPpYPY",
        "colab": {
          "base_uri": "https://localhost:8080/"
        },
        "outputId": "b0211c3c-1003-410d-d528-52076b4d683c"
      },
      "execution_count": 21,
      "outputs": [
        {
          "output_type": "execute_result",
          "data": {
            "text/plain": [
              "Index(['_id', 'PK', 'CCR', 'AGE', 'GENDER', 'RACE', 'ARRESTTIME',\n",
              "       'ARRESTLOCATION', 'OFFENSES', 'INCIDENTLOCATION',\n",
              "       'INCIDENTNEIGHBORHOOD', 'INCIDENTZONE', 'INCIDENTTRACT',\n",
              "       'COUNCIL_DISTRICT', 'PUBLIC_WORKS_DIVISION', 'X', 'Y'],\n",
              "      dtype='object')"
            ]
          },
          "metadata": {},
          "execution_count": 21
        }
      ]
    },
    {
      "cell_type": "code",
      "source": [
        "df_init.columns.to_list()"
      ],
      "metadata": {
        "colab": {
          "base_uri": "https://localhost:8080/"
        },
        "id": "2ii-zUQswznn",
        "outputId": "c24a48f9-2350-441e-c839-1b4896ca7999"
      },
      "execution_count": 22,
      "outputs": [
        {
          "output_type": "execute_result",
          "data": {
            "text/plain": [
              "['_id',\n",
              " 'PK',\n",
              " 'CCR',\n",
              " 'AGE',\n",
              " 'GENDER',\n",
              " 'RACE',\n",
              " 'ARRESTTIME',\n",
              " 'ARRESTLOCATION',\n",
              " 'OFFENSES',\n",
              " 'INCIDENTLOCATION',\n",
              " 'INCIDENTNEIGHBORHOOD',\n",
              " 'INCIDENTZONE',\n",
              " 'INCIDENTTRACT',\n",
              " 'COUNCIL_DISTRICT',\n",
              " 'PUBLIC_WORKS_DIVISION',\n",
              " 'X',\n",
              " 'Y']"
            ]
          },
          "metadata": {},
          "execution_count": 22
        }
      ]
    },
    {
      "cell_type": "code",
      "source": [
        "df_init['GENDER'].unique()"
      ],
      "metadata": {
        "colab": {
          "base_uri": "https://localhost:8080/"
        },
        "id": "Krq1PdmSzB_C",
        "outputId": "8f4f2f17-8664-413b-efef-30f543b4854e"
      },
      "execution_count": 29,
      "outputs": [
        {
          "output_type": "execute_result",
          "data": {
            "text/plain": [
              "array(['F', 'M', 'U'], dtype=object)"
            ]
          },
          "metadata": {},
          "execution_count": 29
        }
      ]
    },
    {
      "cell_type": "code",
      "source": [
        "df_init['RACE'].unique()"
      ],
      "metadata": {
        "colab": {
          "base_uri": "https://localhost:8080/"
        },
        "id": "KGp8ApQGzQDg",
        "outputId": "b1eb7976-1a36-488c-a767-833c9b1ee375"
      },
      "execution_count": 30,
      "outputs": [
        {
          "output_type": "execute_result",
          "data": {
            "text/plain": [
              "array(['B', 'W', 'H', 'O', 'U', 'A', 'I'], dtype=object)"
            ]
          },
          "metadata": {},
          "execution_count": 30
        }
      ]
    },
    {
      "cell_type": "code",
      "source": [
        "df_init['AGE'].unique()"
      ],
      "metadata": {
        "colab": {
          "base_uri": "https://localhost:8080/"
        },
        "id": "0p6OayUi1Ezm",
        "outputId": "66e5800d-47ac-4fc1-a289-c2f17e5e60ae"
      },
      "execution_count": 31,
      "outputs": [
        {
          "output_type": "execute_result",
          "data": {
            "text/plain": [
              "array([ 42.,  31.,  63.,  25.,  45.,  29.,  21.,  17.,  14.,  30.,  54.,\n",
              "        27.,  53.,  18.,  22.,  23.,  33.,  41.,  26.,  15.,  35.,  32.,\n",
              "        13.,  19.,  52.,  40.,  16.,  20.,  28.,  nan,  36.,  37.,  44.,\n",
              "        24.,  57.,  48.,  34.,  47.,  49.,  58.,  59.,  46.,  51.,  56.,\n",
              "        38.,  43.,  60.,  10.,  50.,  39.,  55.,  69.,  61.,  12.,  67.,\n",
              "        65.,  71.,  62.,  70.,  66.,  79.,   0.,  75.,  88.,  11.,  77.,\n",
              "        68.,  64.,  74.,  82.,  76.,  73.,  72., 999.,  80., 117.,  83.,\n",
              "        84.,  98.,  78.,  81.,  90.])"
            ]
          },
          "metadata": {},
          "execution_count": 31
        }
      ]
    },
    {
      "cell_type": "code",
      "source": [
        "df_init['INCIDENTNEIGHBORHOOD'].unique()"
      ],
      "metadata": {
        "colab": {
          "base_uri": "https://localhost:8080/"
        },
        "id": "-ifawVCi1E2I",
        "outputId": "56736ca4-1d42-4b4b-b8a4-161cfa5fa578"
      },
      "execution_count": 32,
      "outputs": [
        {
          "output_type": "execute_result",
          "data": {
            "text/plain": [
              "array(['Bloomfield', 'Outside City', 'Westwood', 'East Allegheny',\n",
              "       'Crafton Heights', 'Greenfield', 'Brookline', 'Regent Square',\n",
              "       'East Liberty', nan, 'East Hills', 'Carrick', 'Allegheny Center',\n",
              "       'South Side Flats', 'Sheraden', 'East Carnegie',\n",
              "       'Golden Triangle/Civic Arena', 'Point Breeze North', 'Perry South',\n",
              "       'Allentown', 'North Shore', 'Marshall-Shadeland',\n",
              "       'Central Oakland', 'Middle Hill', 'Strip District',\n",
              "       'Lincoln-Lemington-Belmar', 'Central Northside',\n",
              "       'Troy Hill-Herrs Island', 'Highland Park', 'Homewood North',\n",
              "       'Northview Heights', 'Brighton Heights', 'Hazelwood',\n",
              "       'Perry North', 'Bedford Dwellings', 'Elliott', 'Beechview',\n",
              "       'Fineview', 'Glen Hazel', 'Spring Hill-City View', 'Bluff',\n",
              "       'Manchester', 'Homewood West', 'Outside County', 'Point Breeze',\n",
              "       'Homewood South', 'Squirrel Hill South', 'Terrace Village',\n",
              "       'Upper Lawrenceville', 'Arlington', 'South Side Slopes',\n",
              "       'Lower Lawrenceville', 'Garfield', 'Lincoln Place', 'Larimer',\n",
              "       'Mount Washington', 'California-Kirkbride', 'Banksville',\n",
              "       'Bon Air', 'South Shore', 'Beltzhoover', 'Knoxville', 'Chateau',\n",
              "       'Crawford-Roberts', 'Polish Hill', 'Fairywood', 'West End',\n",
              "       'Shadyside', 'Morningside', 'Overbrook', 'Friendship',\n",
              "       'North Oakland', 'Central Lawrenceville', 'Oakwood', 'Upper Hill',\n",
              "       'South Oakland', 'West Oakland', 'Spring Garden', 'Allegheny West',\n",
              "       'St. Clair', 'Stanton Heights', 'Esplen', 'Squirrel Hill North',\n",
              "       'Mt. Oliver Neighborhood', 'Summer Hill', 'Arlington Heights',\n",
              "       'Troy Hill', 'Central Business District', 'Central North Side',\n",
              "       'Mount Oliver', 'Windgap', 'Outside State', 'Duquesne Heights',\n",
              "       'New Homestead', 'Ridgemont', 'Swisshelm Park', 'Hays',\n",
              "       'Chartiers City', 'Mt. Oliver Boro'], dtype=object)"
            ]
          },
          "metadata": {},
          "execution_count": 32
        }
      ]
    },
    {
      "cell_type": "code",
      "source": [
        "df_init['INCIDENTZONE'].unique()"
      ],
      "metadata": {
        "colab": {
          "base_uri": "https://localhost:8080/"
        },
        "id": "BEWMUF3X1E5H",
        "outputId": "fba55715-6785-43d5-daf8-0bad35967e49"
      },
      "execution_count": 33,
      "outputs": [
        {
          "output_type": "execute_result",
          "data": {
            "text/plain": [
              "array(['5', 'OSC', '1', '4', '6', '3', '2', nan], dtype=object)"
            ]
          },
          "metadata": {},
          "execution_count": 33
        }
      ]
    },
    {
      "cell_type": "code",
      "source": [
        "df_init['INCIDENTTRACT'].unique()"
      ],
      "metadata": {
        "colab": {
          "base_uri": "https://localhost:8080/"
        },
        "id": "SkvIRAx61E72",
        "outputId": "6cf2c1f3-3df6-48c0-e946-cac739d19596"
      },
      "execution_count": 34,
      "outputs": [
        {
          "output_type": "execute_result",
          "data": {
            "text/plain": [
              "array([ 804., 5599., 2811., 2304., 2814., 1517., 1919., 1410., 1115.,\n",
              "         nan, 1306., 2901., 2204., 1702., 3206., 2022., 1609., 2805.,\n",
              "        201., 1405., 2614., 1803., 2205., 2704.,  405.,  501.,  203.,\n",
              "       1201., 2206., 2406., 1102., 1301., 2609., 2708.,  903., 1515.,\n",
              "       2602., 1302.,  509., 2020., 1920., 2509., 1504., 2620., 2715.,\n",
              "        103., 2902., 2107., 1207., 6699., 1917., 1406., 1916., 1304.,\n",
              "       1408.,  510., 1011., 1603., 1608., 1303.,  603., 1017., 1918.,\n",
              "       2018., 3102., 2904., 1208., 1807., 2507.,  802., 2023., 1806.,\n",
              "       1921., 1202., 1106., 1706., 1809., 3001.,  806., 1516., 2108.,\n",
              "        305.,  605., 2808., 2019.,  709., 1014., 1114., 3204.,  807.,\n",
              "       2703.,  507., 2815.,  902., 2812.,  506.,  409.,  402., 2615.,\n",
              "       2412., 1204., 1413., 2201.,  809., 1914., 1016., 2701., 1606.,\n",
              "        703., 1903., 1005., 2017.,  705.,  901., 1113., 1401., 2503.,\n",
              "       1501.,  406., 1607., 1915., 1404., 2612., 1203., 2607.,  708.,\n",
              "        706., 1604., 3207., 2807., 1414., 1018., 1403.,  403., 7799.,\n",
              "        511.,  404., 1911., 3103., 2016., 1402., 1411., 3101., 2021.,\n",
              "       4810., 9822., 5632., 5623., 5626., 5619., 5624., 5629., 9812.,\n",
              "       9801., 5627., 5617., 5630.])"
            ]
          },
          "metadata": {},
          "execution_count": 34
        }
      ]
    },
    {
      "cell_type": "markdown",
      "source": [
        "#### Convert variables to int, float, datetime"
      ],
      "metadata": {
        "id": "1Kg-nhY24FXQ"
      }
    },
    {
      "cell_type": "code",
      "source": [
        "df_init['ARRESTTIME'] = pd.to_datetime(df_init['ARRESTTIME'])"
      ],
      "metadata": {
        "id": "7ZMQWaC5j_2A"
      },
      "execution_count": 35,
      "outputs": []
    },
    {
      "cell_type": "code",
      "source": [
        "df_init['AGE'] = df_init['AGE'].astype('Int64')"
      ],
      "metadata": {
        "id": "ctUp4FDyj_4u"
      },
      "execution_count": 36,
      "outputs": []
    },
    {
      "cell_type": "code",
      "source": [
        "df_init['X'] = df_init['X'].astype('float')"
      ],
      "metadata": {
        "id": "jdIqDw3Ij_7O"
      },
      "execution_count": 37,
      "outputs": []
    },
    {
      "cell_type": "code",
      "source": [
        "df_init['Y'] = df_init['Y'].astype('float')"
      ],
      "metadata": {
        "id": "22kt7ZSqkmlY"
      },
      "execution_count": 38,
      "outputs": []
    },
    {
      "cell_type": "markdown",
      "source": [
        "#### Create list of offenses and get number for each person"
      ],
      "metadata": {
        "id": "OC3YkkAgzbg4"
      }
    },
    {
      "cell_type": "code",
      "source": [
        "df_init['list_of_offenses'] = [str(x).split('/') for x in df_init['OFFENSES']]"
      ],
      "metadata": {
        "id": "zI-PZrejpX74"
      },
      "execution_count": 39,
      "outputs": []
    },
    {
      "cell_type": "code",
      "source": [
        "df_init['number_of_offenses'] = [len(x) for x in df_init['list_of_offenses']]"
      ],
      "metadata": {
        "id": "G4O8jdREpYJY"
      },
      "execution_count": 40,
      "outputs": []
    },
    {
      "cell_type": "code",
      "source": [
        "df_init['number_of_offenses'].unique()"
      ],
      "metadata": {
        "id": "2aXWQ6bapYMY",
        "colab": {
          "base_uri": "https://localhost:8080/"
        },
        "outputId": "69d407c5-90aa-4381-bf77-20ee86078048"
      },
      "execution_count": 41,
      "outputs": [
        {
          "output_type": "execute_result",
          "data": {
            "text/plain": [
              "array([ 1,  2,  4,  3,  7,  6,  5,  8,  9, 13, 10, 12, 14, 11, 15, 17, 16,\n",
              "       18, 19, 22])"
            ]
          },
          "metadata": {},
          "execution_count": 41
        }
      ]
    },
    {
      "cell_type": "code",
      "source": [
        "df_init.loc[df_init['number_of_offenses'] == 22]['list_of_offenses'].to_list()"
      ],
      "metadata": {
        "id": "-mo5Q4Xszm5-",
        "colab": {
          "base_uri": "https://localhost:8080/"
        },
        "outputId": "e504e27a-ef89-4e84-ea7d-bcb5147dfe7b"
      },
      "execution_count": 46,
      "outputs": [
        {
          "output_type": "execute_result",
          "data": {
            "text/plain": [
              "[['903 Criminal Conspiracy. ',\n",
              "  ' 907 Possessing Instruments of Crime. ',\n",
              "  ' 3925 Receiving Stolen Property. ',\n",
              "  ' 5104 Resisting Arrest or Other Law Enforcement. ',\n",
              "  ' 6105(a)(1) Persons not to possess, use, manufacture, control, sell or transfer firearms: Former Convict enumerated in subsection (b) ',\n",
              "  ' 6106 Firearms not to be Carried without a License. ',\n",
              "  ' 1501 Drivers Required to be Licensed. ',\n",
              "  ' 1543 Driving While Operating Privilege is Suspended or Revoked. ',\n",
              "  ' 3301 Driving on Right Side of Roadway. ',\n",
              "  ' 3303 Overtaking Vehicle on the Left. ',\n",
              "  ' 3309 Driving on Roadways Laned for Traffic. ',\n",
              "  ' 3310 Following Too Closely. ',\n",
              "  ' 3334 Turning Movements and Required Signals. ',\n",
              "  ' 3351 Stop, Stand and Park Outside Bus. and Res.  ',\n",
              "  ' 3354 Additional Parking Regulations. ',\n",
              "  ' 3361  Driving Vehicle at Safe Speed. ',\n",
              "  ' 13(a)(16) Possession of Controlled Substance ',\n",
              "  ' 13(a)(30) Possession w',\n",
              "  ' Intent to Del. Controlled Substance ',\n",
              "  ' 3712 Abandonment and Stripping of Vehicles ',\n",
              "  ' 3733 Fleeing or Attempting to Elude Police Officer ',\n",
              "  ' 3736 Reckless Driving']]"
            ]
          },
          "metadata": {},
          "execution_count": 46
        }
      ]
    },
    {
      "cell_type": "code",
      "source": [],
      "metadata": {
        "id": "F8COcz1vzm8w"
      },
      "execution_count": null,
      "outputs": []
    },
    {
      "cell_type": "code",
      "source": [],
      "metadata": {
        "id": "Y4rVq5O9zm_x"
      },
      "execution_count": null,
      "outputs": []
    }
  ]
}
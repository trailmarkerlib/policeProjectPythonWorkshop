{
  "nbformat": 4,
  "nbformat_minor": 0,
  "metadata": {
    "colab": {
      "provenance": [],
      "authorship_tag": "ABX9TyOtW5Y5OD8MyaQpoh1C/2RM",
      "include_colab_link": true
    },
    "kernelspec": {
      "name": "python3",
      "display_name": "Python 3"
    },
    "language_info": {
      "name": "python"
    }
  },
  "cells": [
    {
      "cell_type": "markdown",
      "metadata": {
        "id": "view-in-github",
        "colab_type": "text"
      },
      "source": [
        "<a href=\"https://colab.research.google.com/github/trailmarkerlib/pythonWorkshop/blob/main/functions.ipynb\" target=\"_parent\"><img src=\"https://colab.research.google.com/assets/colab-badge.svg\" alt=\"Open In Colab\"/></a>"
      ]
    },
    {
      "cell_type": "code",
      "execution_count": 1,
      "metadata": {
        "id": "glSXtJbGErN_"
      },
      "outputs": [],
      "source": [
        "def expand_list_and_melt(df, var_to_expand, list_len, list_of_id_vars):\n",
        "\n",
        "  list_of_new_vars = []\n",
        "  for i in range(1, list_len+1):\n",
        "    list_of_new_vars.append('var' + str(i))\n",
        "\n",
        "  df[list_of_new_vars] = pd.DataFrame(df[var_to_expand].tolist(), index= df.index)\n",
        "\n",
        "  lf = df.melt(id_vars=list_of_id_vars, value_vars=list_of_new_vars).\\\n",
        "      copy()\n",
        "\n",
        "  return lf"
      ]
    },
    {
      "cell_type": "code",
      "source": [],
      "metadata": {
        "id": "Br8j3IpCEsLN"
      },
      "execution_count": null,
      "outputs": []
    }
  ]
}
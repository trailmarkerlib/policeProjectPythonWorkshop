{
  "nbformat": 4,
  "nbformat_minor": 0,
  "metadata": {
    "colab": {
      "provenance": [],
      "authorship_tag": "ABX9TyOMmlptYai0BOSOQtl3Kwng",
      "include_colab_link": true
    },
    "kernelspec": {
      "name": "python3",
      "display_name": "Python 3"
    },
    "language_info": {
      "name": "python"
    }
  },
  "cells": [
    {
      "cell_type": "markdown",
      "metadata": {
        "id": "view-in-github",
        "colab_type": "text"
      },
      "source": [
        "<a href=\"https://colab.research.google.com/github/trailmarkerlib/pythonWorkshop/blob/main/python_introduction.ipynb\" target=\"_parent\"><img src=\"https://colab.research.google.com/assets/colab-badge.svg\" alt=\"Open In Colab\"/></a>"
      ]
    },
    {
      "cell_type": "markdown",
      "source": [
        "## Grief to Aciton Python Workshop: Jan 17, 2024\n",
        "\n",
        "### Introduction and Resources\n",
        "\n",
        "#### W3schools\n",
        "\n",
        "https://www.w3schools.com/python/default.asp\n",
        "\n",
        "#### _Python for Everybody_ by Charles Severance\n",
        "\n",
        "The following links take you to different formats of this book:\n",
        "\n",
        "https://books.trinket.io/pfe/index.html\n",
        "\n",
        "https://eng.libretexts.org/Bookshelves/Computer_Science/Programming_Languages/Python_for_Everybody_(Severance)\n",
        "\n",
        "https://do1.dr-chuck.com/pythonlearn/EN_us/pythonlearn.pdf\n",
        "\n",
        "#### GitHub repository\n",
        "\n",
        "https://github.com/trailmarkerlib/pythonWorkshop"
      ],
      "metadata": {
        "id": "oivOd3RJp4T7"
      }
    },
    {
      "cell_type": "markdown",
      "source": [
        "---\n",
        "\n",
        "Sections 1.4, 1.8\n",
        "\n",
        "Programming is like writing a story to convey an idea. The program is the written text and the task you want the computer to perform is the idea.\n",
        "\n",
        "With written stories, words and sentences are put together to convey the idea. Similarly, computer programs are sequences of words and sentences that have been designed to do something, perform a task or solve a problem. Like human languages, programming languages have a vocabulary and a structure.\n",
        "\n",
        "_Note:_ Programming sentences are called __statements__."
      ],
      "metadata": {
        "id": "cBWu3mykqDX7"
      }
    },
    {
      "cell_type": "markdown",
      "source": [
        "_Note:_ The following code suppresses a warning that certain constructs are going to be depracated (not available in the future)."
      ],
      "metadata": {
        "id": "QWR4K4JLaQ9P"
      }
    },
    {
      "cell_type": "code",
      "source": [
        "#import warnings\n",
        "#warnings.filterwarnings(\"ignore\", category=DeprecationWarning)"
      ],
      "metadata": {
        "id": "bbSWbadd99a6"
      },
      "execution_count": 18,
      "outputs": []
    },
    {
      "cell_type": "markdown",
      "source": [
        "#### Python vocabulary\n",
        "\n",
        "Use the following words to _talk_ to Python. All are lowercase except for False, None, and True."
      ],
      "metadata": {
        "id": "vObgG1jIvdm6"
      }
    },
    {
      "cell_type": "code",
      "source": [
        "help(\"keywords\")"
      ],
      "metadata": {
        "colab": {
          "base_uri": "https://localhost:8080/"
        },
        "id": "gELNww0mvVKB",
        "outputId": "5926d0a9-b7a7-48a0-eb20-ed28ce192dc4"
      },
      "execution_count": 19,
      "outputs": [
        {
          "output_type": "stream",
          "name": "stdout",
          "text": [
            "\n",
            "Here is a list of the Python keywords.  Enter any keyword to get more help.\n",
            "\n",
            "False               class               from                or\n",
            "None                continue            global              pass\n",
            "True                def                 if                  raise\n",
            "and                 del                 import              return\n",
            "as                  elif                in                  try\n",
            "assert              else                is                  while\n",
            "async               except              lambda              with\n",
            "await               finally             nonlocal            yield\n",
            "break               for                 not                 \n",
            "\n"
          ]
        }
      ]
    },
    {
      "cell_type": "code",
      "source": [
        "help(\"if\")"
      ],
      "metadata": {
        "colab": {
          "base_uri": "https://localhost:8080/"
        },
        "id": "6ph17V9twct5",
        "outputId": "1adb86c1-3b3e-46e4-e66a-c5b4ab8b3293"
      },
      "execution_count": 20,
      "outputs": [
        {
          "output_type": "stream",
          "name": "stdout",
          "text": [
            "The \"if\" statement\n",
            "******************\n",
            "\n",
            "The \"if\" statement is used for conditional execution:\n",
            "\n",
            "   if_stmt ::= \"if\" assignment_expression \":\" suite\n",
            "               (\"elif\" assignment_expression \":\" suite)*\n",
            "               [\"else\" \":\" suite]\n",
            "\n",
            "It selects exactly one of the suites by evaluating the expressions one\n",
            "by one until one is found to be true (see section Boolean operations\n",
            "for the definition of true and false); then that suite is executed\n",
            "(and no other part of the \"if\" statement is executed or evaluated).\n",
            "If all expressions are false, the suite of the \"else\" clause, if\n",
            "present, is executed.\n",
            "\n",
            "Related help topics: TRUTHVALUE\n",
            "\n"
          ]
        }
      ]
    },
    {
      "cell_type": "markdown",
      "source": [
        "#### Structure\n",
        "\n",
        "*   Python uses space - tabs and line breaks - to separate statements.\n",
        "*   Some other languages use semi-colons to accomplish this."
      ],
      "metadata": {
        "id": "4aEmrLi90ya3"
      }
    },
    {
      "cell_type": "markdown",
      "source": [
        "#### Building Blocks of Programs\n",
        "\n",
        "*   Input - bring in data from a file, website, user entry, etc.\n",
        "*   Output - display resilts to the screen\n",
        "*   Sequential execution - perform a sequence of statements one after another\n",
        "*   Conditional execution - execute or skip a sequence of statements based on a condition\n",
        "*   Repeated execution - execute a set of statements multiple times\n",
        "*   Reuse - write and name a set of statements and use them as needed by referring to them by name"
      ],
      "metadata": {
        "id": "zFM5F-RUw3VG"
      }
    },
    {
      "cell_type": "markdown",
      "source": [
        "#### Errors and Debugging\n",
        "\n",
        "Sections 1.10 - 1.12\n",
        "\n",
        "*   Syntax error - violates the rules of the programming language, and the program fails with an error message\n",
        "*   Semantic/logic error - program runs but does not accomplish what was intended"
      ],
      "metadata": {
        "id": "VfzpS3I3zs4g"
      }
    },
    {
      "cell_type": "markdown",
      "source": [
        "#### Values, Variables, and Types\n",
        "\n",
        "Section 2.1 - 2.2"
      ],
      "metadata": {
        "id": "xGxYKuQPqDav"
      }
    },
    {
      "cell_type": "markdown",
      "source": [
        "Programming involves working with values including numeric values, such as _totals_, _averages_, and _percentages_, and text values, such as descriptions or categories of crimes, geographic areas, and addresses. These values can be stored in variables for easier and more organized access and use."
      ],
      "metadata": {
        "id": "IRGZfMwPDfgb"
      }
    },
    {
      "cell_type": "code",
      "source": [
        "# input\n",
        "total_arrests = 65389"
      ],
      "metadata": {
        "id": "dWRW04bEE73H"
      },
      "execution_count": 21,
      "outputs": []
    },
    {
      "cell_type": "code",
      "source": [
        "# output\n",
        "print(\"The total number of arrests is %5.0f\" % total_arrests)\n",
        "\"{0:,.0f}\".format(total_arrests)"
      ],
      "metadata": {
        "colab": {
          "base_uri": "https://localhost:8080/",
          "height": 53
        },
        "id": "6wW5-TzlFE2H",
        "outputId": "51e44390-6746-4b37-897d-557bd1b1bcc5"
      },
      "execution_count": 22,
      "outputs": [
        {
          "output_type": "stream",
          "name": "stdout",
          "text": [
            "The total number of arrests is 65389\n"
          ]
        },
        {
          "output_type": "execute_result",
          "data": {
            "text/plain": [
              "'65,389'"
            ],
            "application/vnd.google.colaboratory.intrinsic+json": {
              "type": "string"
            }
          },
          "metadata": {},
          "execution_count": 22
        }
      ]
    },
    {
      "cell_type": "markdown",
      "source": [
        "Variable types and examples in statistics\n",
        "\n",
        "https://statsandr.com/blog/variable-types-and-examples/#introduction"
      ],
      "metadata": {
        "id": "0pZwCJrGFZPe"
      }
    },
    {
      "cell_type": "markdown",
      "source": [
        "Python datatypes\n",
        "\n",
        "https://www.w3schools.com/python/python_datatypes.asp\n",
        "\n",
        "https://www.geeksforgeeks.org/python-data-types/amp/\n",
        "\n",
        "https://www.tutorialspoint.com/python/python_variable_types.htm"
      ],
      "metadata": {
        "id": "fmd9UQnFXec3"
      }
    },
    {
      "cell_type": "code",
      "source": [
        "type(total_arrests)"
      ],
      "metadata": {
        "colab": {
          "base_uri": "https://localhost:8080/"
        },
        "id": "ZF2828UnXziA",
        "outputId": "3e42764c-2722-4e03-80b3-926718b558c0"
      },
      "execution_count": 23,
      "outputs": [
        {
          "output_type": "execute_result",
          "data": {
            "text/plain": [
              "int"
            ]
          },
          "metadata": {},
          "execution_count": 23
        }
      ]
    },
    {
      "cell_type": "code",
      "source": [
        "type('hello')"
      ],
      "metadata": {
        "colab": {
          "base_uri": "https://localhost:8080/"
        },
        "id": "m8PMiRUZawDf",
        "outputId": "67758ead-bd4a-46c8-9d84-478e20bc6631"
      },
      "execution_count": 24,
      "outputs": [
        {
          "output_type": "execute_result",
          "data": {
            "text/plain": [
              "str"
            ]
          },
          "metadata": {},
          "execution_count": 24
        }
      ]
    },
    {
      "cell_type": "code",
      "source": [
        "type(3.1459)"
      ],
      "metadata": {
        "colab": {
          "base_uri": "https://localhost:8080/"
        },
        "id": "rRwJ59Ekav-F",
        "outputId": "45dc50b5-43b8-4913-9c41-96d77aebbb8b"
      },
      "execution_count": 25,
      "outputs": [
        {
          "output_type": "execute_result",
          "data": {
            "text/plain": [
              "float"
            ]
          },
          "metadata": {},
          "execution_count": 25
        }
      ]
    },
    {
      "cell_type": "markdown",
      "source": [
        "#### Mathematical operations\n",
        "\n",
        "Sections 2.5 - 2.7"
      ],
      "metadata": {
        "id": "t9MyK7NOp3Lf"
      }
    },
    {
      "cell_type": "markdown",
      "source": [
        "https://www.w3schools.com/python/gloss_python_arithmetic_operators.asp"
      ],
      "metadata": {
        "id": "G9WgW8hGZx7M"
      }
    },
    {
      "cell_type": "markdown",
      "source": [
        "#### Python modules\n",
        "\n",
        "A module is a file consisting of Python code that you can import and use in your program. Modules provide common and useful functionality that we can use and reuse so we don't have to write everything from scratch. Modules are organized into packages. Packages and/or modules need to be imported to use them."
      ],
      "metadata": {
        "id": "MRUwmt3v5J5W"
      }
    },
    {
      "cell_type": "code",
      "source": [
        "1/0"
      ],
      "metadata": {
        "colab": {
          "base_uri": "https://localhost:8080/",
          "height": 179
        },
        "id": "_jqbcXEu_XMY",
        "outputId": "e93461b2-ba25-4d5a-9067-3349d19fb358"
      },
      "execution_count": 26,
      "outputs": [
        {
          "output_type": "error",
          "ename": "ZeroDivisionError",
          "evalue": "division by zero",
          "traceback": [
            "\u001b[0;31m---------------------------------------------------------------------------\u001b[0m",
            "\u001b[0;31mZeroDivisionError\u001b[0m                         Traceback (most recent call last)",
            "\u001b[0;32m<ipython-input-26-9e1622b385b6>\u001b[0m in \u001b[0;36m<cell line: 1>\u001b[0;34m()\u001b[0m\n\u001b[0;32m----> 1\u001b[0;31m \u001b[0;36m1\u001b[0m\u001b[0;34m/\u001b[0m\u001b[0;36m0\u001b[0m\u001b[0;34m\u001b[0m\u001b[0;34m\u001b[0m\u001b[0m\n\u001b[0m",
            "\u001b[0;31mZeroDivisionError\u001b[0m: division by zero"
          ]
        }
      ]
    },
    {
      "cell_type": "code",
      "source": [
        "import traceback\n",
        "try:\n",
        "    1/0\n",
        "except Exception as e:\n",
        "    traceback.print_exception(e, limit=0)"
      ],
      "metadata": {
        "colab": {
          "base_uri": "https://localhost:8080/"
        },
        "id": "1nHcdp9T_Knz",
        "outputId": "614482cb-fed2-43ea-9d37-60ba7ce0a479"
      },
      "execution_count": 27,
      "outputs": [
        {
          "output_type": "stream",
          "name": "stderr",
          "text": [
            "ZeroDivisionError: division by zero\n"
          ]
        }
      ]
    },
    {
      "cell_type": "markdown",
      "source": [
        "#### Objects\n",
        "\n",
        "Python is an object-oriented programming language. This means everything is treated as an object that has properties and methods (one or more statements that perform a task related to the object). Object-oriented programming languages use dot notation to access properties and methods. This following examples show how this dot notation works."
      ],
      "metadata": {
        "id": "u3CZu5Pia9v_"
      }
    },
    {
      "cell_type": "code",
      "source": [
        "class Person:\n",
        "  def __init__(self, first, last, hometown):\n",
        "    self.first = first\n",
        "    self.last = last\n",
        "    self.hometown = hometown\n",
        "\n",
        "  def __str__(self):\n",
        "    return f\"{self.first} {self.last} ({self.hometown})\"\n",
        "\n",
        "  def greet(self):\n",
        "    return f\"Hi, my name is {self.first}. It is nice to meet you!\""
      ],
      "metadata": {
        "id": "Y-S0q2Dab4MX"
      },
      "execution_count": 28,
      "outputs": []
    },
    {
      "cell_type": "code",
      "source": [
        "p1 = Person(\"Lisa\", \"Over\", \"Dormont\")"
      ],
      "metadata": {
        "id": "8CpymNA0dRwn"
      },
      "execution_count": 29,
      "outputs": []
    },
    {
      "cell_type": "code",
      "source": [
        "print(p1)"
      ],
      "metadata": {
        "colab": {
          "base_uri": "https://localhost:8080/"
        },
        "id": "QrgYbg8rd89e",
        "outputId": "b382483d-e73c-4fec-8c95-ce5abbbfa8cc"
      },
      "execution_count": 30,
      "outputs": [
        {
          "output_type": "stream",
          "name": "stdout",
          "text": [
            "Lisa Over (Dormont)\n"
          ]
        }
      ]
    },
    {
      "cell_type": "code",
      "source": [
        "p1.first"
      ],
      "metadata": {
        "colab": {
          "base_uri": "https://localhost:8080/",
          "height": 35
        },
        "id": "3457YLEdd-q-",
        "outputId": "14075afc-f18f-4d09-b580-43f2f0a3476b"
      },
      "execution_count": 31,
      "outputs": [
        {
          "output_type": "execute_result",
          "data": {
            "text/plain": [
              "'Lisa'"
            ],
            "application/vnd.google.colaboratory.intrinsic+json": {
              "type": "string"
            }
          },
          "metadata": {},
          "execution_count": 31
        }
      ]
    },
    {
      "cell_type": "code",
      "source": [
        "p1.last"
      ],
      "metadata": {
        "colab": {
          "base_uri": "https://localhost:8080/",
          "height": 35
        },
        "id": "Ay9yWnLkeX61",
        "outputId": "89a11637-411f-4bd3-831d-775f42b3eae7"
      },
      "execution_count": 32,
      "outputs": [
        {
          "output_type": "execute_result",
          "data": {
            "text/plain": [
              "'Over'"
            ],
            "application/vnd.google.colaboratory.intrinsic+json": {
              "type": "string"
            }
          },
          "metadata": {},
          "execution_count": 32
        }
      ]
    },
    {
      "cell_type": "code",
      "source": [
        "p1.greet()"
      ],
      "metadata": {
        "colab": {
          "base_uri": "https://localhost:8080/",
          "height": 35
        },
        "id": "XLn2ht0feZJh",
        "outputId": "38322632-f6bb-43f7-e159-ae6173878deb"
      },
      "execution_count": 33,
      "outputs": [
        {
          "output_type": "execute_result",
          "data": {
            "text/plain": [
              "'Hi, my name is Lisa. It is nice to meet you!'"
            ],
            "application/vnd.google.colaboratory.intrinsic+json": {
              "type": "string"
            }
          },
          "metadata": {},
          "execution_count": 33
        }
      ]
    },
    {
      "cell_type": "code",
      "source": [],
      "metadata": {
        "id": "_S2wJNH4euEf"
      },
      "execution_count": null,
      "outputs": []
    }
  ]
}
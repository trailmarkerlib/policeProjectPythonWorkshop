{
  "nbformat": 4,
  "nbformat_minor": 0,
  "metadata": {
    "colab": {
      "provenance": [],
      "toc_visible": true,
      "authorship_tag": "ABX9TyOIqgUqqmj8FnKcAMp/KGlY",
      "include_colab_link": true
    },
    "kernelspec": {
      "name": "python3",
      "display_name": "Python 3"
    },
    "language_info": {
      "name": "python"
    }
  },
  "cells": [
    {
      "cell_type": "markdown",
      "metadata": {
        "id": "view-in-github",
        "colab_type": "text"
      },
      "source": [
        "<a href=\"https://colab.research.google.com/github/trailmarkerlib/policeProjectPythonWorkshop/blob/main/python_workshop_introduction.ipynb\" target=\"_parent\"><img src=\"https://colab.research.google.com/assets/colab-badge.svg\" alt=\"Open In Colab\"/></a>"
      ]
    },
    {
      "cell_type": "markdown",
      "source": [
        "# Grief to Aciton Python Workshop: Jan 17, 2024\n",
        "\n",
        "## Introduction and Resources\n",
        "\n",
        "### W3schools\n",
        "\n",
        "https://www.w3schools.com/python/default.asp\n",
        "\n",
        "### _Python for Everybody_ by Charles Severance\n",
        "\n",
        "The following links take you to different formats of this book:\n",
        "\n",
        "https://books.trinket.io/pfe/index.html\n",
        "\n",
        "https://eng.libretexts.org/Bookshelves/Computer_Science/Programming_Languages/Python_for_Everybody_(Severance)\n",
        "\n",
        "https://do1.dr-chuck.com/pythonlearn/EN_us/pythonlearn.pdf\n",
        "\n",
        "### GitHub repository\n",
        "\n",
        "https://github.com/trailmarkerlib/pythonWorkshop\n",
        "\n",
        "## Objectives of this Notebook\n",
        "\n",
        "After reviewing this notebook and linked resources, you will establish a foundation for further learning and exploration of the following concepts\n",
        "\n",
        "*   Programming and programs\n",
        "*   Python vocaulary and syntax and speaking to Python\n",
        "*   Basic debugging techniques to identify and resolve errors\n",
        "*   Values, variables, and determining datatypes\n",
        "*   Mathematical operations\n",
        "*   Python modules and packages\n",
        "*   Objects and dot notation\n"
      ],
      "metadata": {
        "id": "oivOd3RJp4T7"
      }
    },
    {
      "cell_type": "markdown",
      "source": [
        "## Programming\n",
        "\n",
        "Sections 1.4, 1.8-1.9\n",
        "\n",
        "#### What is Programming\n",
        "\n",
        "Programming is like writing a story to convey an idea. The program is the written text and the task you want the computer to perform is the idea.\n",
        "\n",
        "With written stories, words and sentences are put together to convey the idea. Similarly, computer programs are sequences of words and sentences that have been designed to do something, perform a task or solve a problem. Like human languages, programming languages have a vocabulary and a structure that you use to communicate with the machine.\n",
        "\n",
        "_Note:_ Programming sentences are called __statements__."
      ],
      "metadata": {
        "id": "cBWu3mykqDX7"
      }
    },
    {
      "cell_type": "markdown",
      "source": [
        "#### A Program\n",
        "\n",
        "A program is a sequence of statements that are crafted by a programmer to do something: perform a task, solve a problem, answer a question, etc.    "
      ],
      "metadata": {
        "id": "ASUWsV8hqR1Q"
      }
    },
    {
      "cell_type": "markdown",
      "source": [
        "#### Building Blocks of Programs\n",
        "\n",
        "*   Input - bring in data from a file, website, user entry, etc.\n",
        "*   Output - display resilts to the screen\n",
        "*   Sequential execution - perform a sequence of statements one after another\n",
        "*   Conditional execution - execute or skip a sequence of statements based on a condition\n",
        "*   Repeated execution - execute a set of statements multiple times\n",
        "*   Reuse - write and name a set of statements and use them as needed by referring to them by name"
      ],
      "metadata": {
        "id": "g5NoHuY5nbqp"
      }
    },
    {
      "cell_type": "markdown",
      "source": [
        "## Note"
      ],
      "metadata": {
        "id": "X5qCvoWGpogr"
      }
    },
    {
      "cell_type": "markdown",
      "source": [
        "_Note:_ The following code suppresses a warning that appears when users use code that will not be available in the future."
      ],
      "metadata": {
        "id": "rSLb67bxniw3"
      }
    },
    {
      "cell_type": "code",
      "source": [
        "#import warnings\n",
        "#warnings.filterwarnings(\"ignore\", category=DeprecationWarning)"
      ],
      "metadata": {
        "id": "bbSWbadd99a6"
      },
      "execution_count": null,
      "outputs": []
    },
    {
      "cell_type": "markdown",
      "source": [
        "## Speaking to Python"
      ],
      "metadata": {
        "id": "vObgG1jIvdm6"
      }
    },
    {
      "cell_type": "markdown",
      "source": [
        "### Vocabulary\n",
        "\n",
        "Use the following words to _talk_ to Python. All are lowercase except for False, None, and True."
      ],
      "metadata": {
        "id": "bUMSXGLzmqhq"
      }
    },
    {
      "cell_type": "code",
      "source": [
        "help(\"keywords\")"
      ],
      "metadata": {
        "colab": {
          "base_uri": "https://localhost:8080/"
        },
        "id": "gELNww0mvVKB",
        "outputId": "e26656ad-1732-43a3-ee4e-f4a1eebef9ea"
      },
      "execution_count": null,
      "outputs": [
        {
          "output_type": "stream",
          "name": "stdout",
          "text": [
            "\n",
            "Here is a list of the Python keywords.  Enter any keyword to get more help.\n",
            "\n",
            "False               class               from                or\n",
            "None                continue            global              pass\n",
            "True                def                 if                  raise\n",
            "and                 del                 import              return\n",
            "as                  elif                in                  try\n",
            "assert              else                is                  while\n",
            "async               except              lambda              with\n",
            "await               finally             nonlocal            yield\n",
            "break               for                 not                 \n",
            "\n"
          ]
        }
      ]
    },
    {
      "cell_type": "code",
      "source": [
        "help(\"if\")"
      ],
      "metadata": {
        "colab": {
          "base_uri": "https://localhost:8080/"
        },
        "id": "6ph17V9twct5",
        "outputId": "f435a875-52fd-43d8-c0c2-adf787dc2146"
      },
      "execution_count": null,
      "outputs": [
        {
          "output_type": "stream",
          "name": "stdout",
          "text": [
            "The \"if\" statement\n",
            "******************\n",
            "\n",
            "The \"if\" statement is used for conditional execution:\n",
            "\n",
            "   if_stmt ::= \"if\" assignment_expression \":\" suite\n",
            "               (\"elif\" assignment_expression \":\" suite)*\n",
            "               [\"else\" \":\" suite]\n",
            "\n",
            "It selects exactly one of the suites by evaluating the expressions one\n",
            "by one until one is found to be true (see section Boolean operations\n",
            "for the definition of true and false); then that suite is executed\n",
            "(and no other part of the \"if\" statement is executed or evaluated).\n",
            "If all expressions are false, the suite of the \"else\" clause, if\n",
            "present, is executed.\n",
            "\n",
            "Related help topics: TRUTHVALUE\n",
            "\n"
          ]
        }
      ]
    },
    {
      "cell_type": "markdown",
      "source": [
        "### Syntax\n",
        "\n",
        "*   Python uses space - tabs and line breaks - to separate statements.\n",
        "*   Some other languages use semi-colons to accomplish this."
      ],
      "metadata": {
        "id": "4aEmrLi90ya3"
      }
    },
    {
      "cell_type": "markdown",
      "source": [
        "## Errors and Debugging\n",
        "\n",
        "Sections 1.10 - 1.12\n",
        "\n",
        "*   Syntax error - violates the rules of the programming language, and the program fails with an error message\n",
        "*   Semantic/logic error - program runs but does not accomplish what was intended"
      ],
      "metadata": {
        "id": "VfzpS3I3zs4g"
      }
    },
    {
      "cell_type": "markdown",
      "source": [
        "## Values, Variables, and Types\n",
        "\n",
        "Sections 2.1 - 2.2"
      ],
      "metadata": {
        "id": "xGxYKuQPqDav"
      }
    },
    {
      "cell_type": "markdown",
      "source": [
        "Programming involves working with values including numeric values, such as _totals_, _averages_, and _percentages_, and text values, such as descriptions or categories of crimes, geographic areas, and addresses. These values can be stored in variables for easier and more organized access and use."
      ],
      "metadata": {
        "id": "IRGZfMwPDfgb"
      }
    },
    {
      "cell_type": "code",
      "source": [
        "# input\n",
        "total_arrests = 65659"
      ],
      "metadata": {
        "id": "dWRW04bEE73H"
      },
      "execution_count": null,
      "outputs": []
    },
    {
      "cell_type": "code",
      "source": [
        "# output\n",
        "print(\"The total number of arrests is %5.0f\" % total_arrests)\n",
        "\"{0:,.0f}\".format(total_arrests)"
      ],
      "metadata": {
        "colab": {
          "base_uri": "https://localhost:8080/",
          "height": 53
        },
        "id": "6wW5-TzlFE2H",
        "outputId": "87789d2f-9504-42f2-8586-6f4488144b14"
      },
      "execution_count": null,
      "outputs": [
        {
          "output_type": "stream",
          "name": "stdout",
          "text": [
            "The total number of arrests is 65659\n"
          ]
        },
        {
          "output_type": "execute_result",
          "data": {
            "text/plain": [
              "'65,659'"
            ],
            "application/vnd.google.colaboratory.intrinsic+json": {
              "type": "string"
            }
          },
          "metadata": {},
          "execution_count": 5
        }
      ]
    },
    {
      "cell_type": "markdown",
      "source": [
        "Variable types and examples\n",
        "\n",
        "Stats: https://statsandr.com/blog/variable-types-and-examples/#introduction\n",
        "\n",
        "Stats and Python: https://365datascience.com/trending/data-types-complete-guide/\n",
        "\n",
        "Python: https://www.w3schools.com/python/python_datatypes.asp\n",
        "\n",
        "Python: https://www.geeksforgeeks.org/python-data-types/amp/\n",
        "\n",
        "Python: https://www.tutorialspoint.com/python/python_variable_types.htm"
      ],
      "metadata": {
        "id": "0pZwCJrGFZPe"
      }
    },
    {
      "cell_type": "code",
      "source": [
        "type(total_arrests)"
      ],
      "metadata": {
        "colab": {
          "base_uri": "https://localhost:8080/"
        },
        "id": "ZF2828UnXziA",
        "outputId": "f2be8a90-4f9f-4951-b809-5d0a3ee9d394"
      },
      "execution_count": null,
      "outputs": [
        {
          "output_type": "execute_result",
          "data": {
            "text/plain": [
              "int"
            ]
          },
          "metadata": {},
          "execution_count": 6
        }
      ]
    },
    {
      "cell_type": "code",
      "source": [
        "type('hello')"
      ],
      "metadata": {
        "colab": {
          "base_uri": "https://localhost:8080/"
        },
        "id": "m8PMiRUZawDf",
        "outputId": "befa89a2-6934-4e2d-e861-c2f72cf60e56"
      },
      "execution_count": null,
      "outputs": [
        {
          "output_type": "execute_result",
          "data": {
            "text/plain": [
              "str"
            ]
          },
          "metadata": {},
          "execution_count": 7
        }
      ]
    },
    {
      "cell_type": "code",
      "source": [
        "type(3.1459)"
      ],
      "metadata": {
        "colab": {
          "base_uri": "https://localhost:8080/"
        },
        "id": "rRwJ59Ekav-F",
        "outputId": "88e12088-5579-44f8-bbcf-30069a004d38"
      },
      "execution_count": null,
      "outputs": [
        {
          "output_type": "execute_result",
          "data": {
            "text/plain": [
              "float"
            ]
          },
          "metadata": {},
          "execution_count": 8
        }
      ]
    },
    {
      "cell_type": "markdown",
      "source": [
        "## Mathematical Operations\n",
        "\n",
        "Sections 2.5 - 2.7"
      ],
      "metadata": {
        "id": "t9MyK7NOp3Lf"
      }
    },
    {
      "cell_type": "markdown",
      "source": [
        "https://www.w3schools.com/python/gloss_python_arithmetic_operators.asp"
      ],
      "metadata": {
        "id": "G9WgW8hGZx7M"
      }
    },
    {
      "cell_type": "markdown",
      "source": [
        "## Python Modules and Packages\n",
        "\n",
        "A module is a file consisting of Python code that you can import and use in your program. Modules provide common and useful functionality that we can use and reuse so we don't have to write everything from scratch. Modules are organized into packages. Packages and/or modules need to be imported to use them.\n",
        "\n",
        "https://realpython.com/python-modules-packages/"
      ],
      "metadata": {
        "id": "MRUwmt3v5J5W"
      }
    },
    {
      "cell_type": "code",
      "source": [
        "1/0"
      ],
      "metadata": {
        "colab": {
          "base_uri": "https://localhost:8080/",
          "height": 179
        },
        "id": "_jqbcXEu_XMY",
        "outputId": "e99f0189-16c7-47ac-e13d-885b2f2c4ab7"
      },
      "execution_count": null,
      "outputs": [
        {
          "output_type": "error",
          "ename": "ZeroDivisionError",
          "evalue": "division by zero",
          "traceback": [
            "\u001b[0;31m---------------------------------------------------------------------------\u001b[0m",
            "\u001b[0;31mZeroDivisionError\u001b[0m                         Traceback (most recent call last)",
            "\u001b[0;32m<ipython-input-9-9e1622b385b6>\u001b[0m in \u001b[0;36m<cell line: 1>\u001b[0;34m()\u001b[0m\n\u001b[0;32m----> 1\u001b[0;31m \u001b[0;36m1\u001b[0m\u001b[0;34m/\u001b[0m\u001b[0;36m0\u001b[0m\u001b[0;34m\u001b[0m\u001b[0;34m\u001b[0m\u001b[0m\n\u001b[0m",
            "\u001b[0;31mZeroDivisionError\u001b[0m: division by zero"
          ]
        }
      ]
    },
    {
      "cell_type": "code",
      "source": [
        "import traceback\n",
        "try:\n",
        "    1/0\n",
        "except Exception as e:\n",
        "    traceback.print_exception(e, limit=0)"
      ],
      "metadata": {
        "colab": {
          "base_uri": "https://localhost:8080/"
        },
        "id": "1nHcdp9T_Knz",
        "outputId": "db286f87-4a53-4352-ee39-c253488a6016"
      },
      "execution_count": null,
      "outputs": [
        {
          "output_type": "stream",
          "name": "stderr",
          "text": [
            "ZeroDivisionError: division by zero\n"
          ]
        }
      ]
    },
    {
      "cell_type": "markdown",
      "source": [
        "## Objects and Dot Notation\n",
        "\n",
        " https://www.codecademy.com/forum_questions/5170307264a7402d9a0012f5\n",
        "\n",
        "Python is an object-oriented programming language. This means everything is treated as an object that has properties and methods (one or more statements that perform a task related to the object). Object-oriented programming languages use dot notation to access properties and methods. This following examples show how this dot notation works."
      ],
      "metadata": {
        "id": "u3CZu5Pia9v_"
      }
    },
    {
      "cell_type": "code",
      "source": [
        "class Person:\n",
        "  def __init__(self, first, last, hometown):\n",
        "    self.first = first\n",
        "    self.last = last\n",
        "    self.hometown = hometown\n",
        "\n",
        "  def __str__(self):\n",
        "    return f\"{self.first} {self.last} ({self.hometown})\"\n",
        "\n",
        "  def greet(self):\n",
        "    return f\"Hi, my name is {self.first}. It is nice to meet you!\""
      ],
      "metadata": {
        "id": "Y-S0q2Dab4MX"
      },
      "execution_count": null,
      "outputs": []
    },
    {
      "cell_type": "code",
      "source": [
        "p1 = Person(\"Lisa\", \"Over\", \"Dormont\")"
      ],
      "metadata": {
        "id": "8CpymNA0dRwn"
      },
      "execution_count": null,
      "outputs": []
    },
    {
      "cell_type": "code",
      "source": [
        "print(p1)"
      ],
      "metadata": {
        "colab": {
          "base_uri": "https://localhost:8080/"
        },
        "id": "QrgYbg8rd89e",
        "outputId": "cea83e39-53da-4036-93b0-46be40ee6751"
      },
      "execution_count": null,
      "outputs": [
        {
          "output_type": "stream",
          "name": "stdout",
          "text": [
            "Lisa Over (Dormont)\n"
          ]
        }
      ]
    },
    {
      "cell_type": "code",
      "source": [
        "p1.first"
      ],
      "metadata": {
        "colab": {
          "base_uri": "https://localhost:8080/",
          "height": 35
        },
        "id": "3457YLEdd-q-",
        "outputId": "8a8e41f9-6fa6-44b2-ef38-49010d40cc58"
      },
      "execution_count": null,
      "outputs": [
        {
          "output_type": "execute_result",
          "data": {
            "text/plain": [
              "'Lisa'"
            ],
            "application/vnd.google.colaboratory.intrinsic+json": {
              "type": "string"
            }
          },
          "metadata": {},
          "execution_count": 14
        }
      ]
    },
    {
      "cell_type": "code",
      "source": [
        "p1.last"
      ],
      "metadata": {
        "colab": {
          "base_uri": "https://localhost:8080/",
          "height": 35
        },
        "id": "Ay9yWnLkeX61",
        "outputId": "f1221337-20ad-48fc-e127-d3787a66c848"
      },
      "execution_count": null,
      "outputs": [
        {
          "output_type": "execute_result",
          "data": {
            "text/plain": [
              "'Over'"
            ],
            "application/vnd.google.colaboratory.intrinsic+json": {
              "type": "string"
            }
          },
          "metadata": {},
          "execution_count": 15
        }
      ]
    },
    {
      "cell_type": "code",
      "source": [
        "p1.greet()"
      ],
      "metadata": {
        "colab": {
          "base_uri": "https://localhost:8080/",
          "height": 35
        },
        "id": "XLn2ht0feZJh",
        "outputId": "0a51404f-47ef-4d16-e992-bcbc75c06e36"
      },
      "execution_count": null,
      "outputs": [
        {
          "output_type": "execute_result",
          "data": {
            "text/plain": [
              "'Hi, my name is Lisa. It is nice to meet you!'"
            ],
            "application/vnd.google.colaboratory.intrinsic+json": {
              "type": "string"
            }
          },
          "metadata": {},
          "execution_count": 16
        }
      ]
    }
  ]
}